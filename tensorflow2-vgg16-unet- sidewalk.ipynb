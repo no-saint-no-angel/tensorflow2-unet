{
 "cells": [
  {
   "cell_type": "code",
   "execution_count": null,
   "metadata": {},
   "outputs": [],
   "source": [
    "import tensorflow as tf\n",
    "from tensorflow import keras\n",
    "from tensorflow.keras import datasets, layers, optimizers, Sequential\n",
    "import glob\n",
    "import numpy as np\n",
    "import random"
   ]
  },
  {
   "cell_type": "code",
   "execution_count": null,
   "metadata": {},
   "outputs": [],
   "source": [
    "train_paths, label_paths = [],[]\n",
    "with open(\"dataset_sidewalk/train.txt\", \"r\") as f:\n",
    "    for line in f.readlines():\n",
    "        train_name, label_name = line.strip().split(\";\")\n",
    "        train_paths.append(\"dataset_sidewalk/jpg/\"+train_name)\n",
    "        label_paths.append(\"dataset_sidewalk/png/\"+label_name)\n",
    "print( len(train_paths) , len(label_paths) ) \n",
    "print( train_paths[0:2], label_paths[0:2])"
   ]
  },
  {
   "cell_type": "code",
   "execution_count": null,
   "metadata": {},
   "outputs": [],
   "source": [
    "from sklearn.model_selection import train_test_split\n",
    "x_train, x_valid, y_train, y_valid = train_test_split(train_paths, label_paths, test_size = 0.25, random_state = 888888)\n",
    "print(len(x_train), len(x_valid), len(y_train), len(y_valid))\n",
    "print(x_train[0:2], x_valid[0:2], y_train[0:2], y_valid[0:2])"
   ]
  },
  {
   "cell_type": "code",
   "execution_count": null,
   "metadata": {},
   "outputs": [],
   "source": [
    "def data_processing(img, label):\n",
    "    img = tf.io.read_file(img)\n",
    "    img = tf.image.decode_jpeg( img , channels = 3)\n",
    "    img = tf.cast(img , dtype = \"float32\")\n",
    "    label = tf.io.read_file(label)\n",
    "    label = tf.image.decode_jpeg( label , channels = 1)\n",
    "    label = tf.cast(label , dtype = \"int32\")\n",
    "    return img/255., label"
   ]
  },
  {
   "cell_type": "code",
   "execution_count": null,
   "metadata": {},
   "outputs": [],
   "source": [
    "img, label = data_processing(x_train[20], y_train[20])\n",
    "print(img.shape, label.shape)\n",
    "print(np.max(img), np.min(img))\n",
    "print(np.max(label), np.min(label))"
   ]
  },
  {
   "cell_type": "code",
   "execution_count": null,
   "metadata": {},
   "outputs": [],
   "source": [
    "train_db = tf.data.Dataset.from_tensor_slices((x_train, y_train))\n",
    "train_db = train_db.shuffle(10).map(data_processing).batch(1)\n",
    "\n",
    "valid_db = tf.data.Dataset.from_tensor_slices((x_valid, y_valid))\n",
    "valid_db = valid_db.shuffle(10).map(data_processing).batch(1)\n",
    "\n",
    "sample1 = next(iter(train_db))\n",
    "print('sample1:', sample1[0].shape, sample1[1].shape)\n",
    "sample2 = next(iter(valid_db))\n",
    "print('sample2:', sample2[0].shape, sample2[1].shape)"
   ]
  },
  {
   "cell_type": "markdown",
   "metadata": {},
   "source": [
    "# Model"
   ]
  },
  {
   "cell_type": "code",
   "execution_count": null,
   "metadata": {
    "scrolled": true
   },
   "outputs": [],
   "source": [
    "baseModel = tf.keras.applications.VGG16(weights=\"imagenet\",include_top=False,input_shape = (720, 1280, 3),pooling=None)\n",
    "baseModel.trainable = False\n",
    "contractingNet = tf.keras.models.Model(inputs=baseModel.input, outputs=baseModel.get_layer('block4_pool').output)\n",
    "\n",
    "f1 = contractingNet.get_layer(\"block1_conv2\").output\n",
    "f2 = contractingNet.get_layer(\"block2_conv2\").output\n",
    "f3 = contractingNet.get_layer(\"block3_conv3\").output\n",
    "f4 = contractingNet.get_layer(\"block4_conv3\").output\n",
    "\n",
    "a = layers.Conv2D(1024, kernel_size=[3, 3], padding=\"same\", activation=\"relu\")(contractingNet.output)\n",
    "a = layers.Conv2D(512, kernel_size=[1, 1], padding=\"same\", activation=\"relu\")(a)\n",
    "a = layers.Conv2D(1024, kernel_size=[3, 3], padding=\"same\", activation=\"relu\")(a)\n",
    "\n",
    "a = layers.UpSampling2D(size = (2, 2))(a)\n",
    "a = layers.concatenate([a,f4], axis = -1)\n",
    "a = layers.Conv2D(512, kernel_size=[3, 3], padding=\"same\", activation=\"relu\")(a)\n",
    "a = layers.Conv2D(256, kernel_size=[1, 1], padding=\"same\", activation=\"relu\")(a)\n",
    "a = layers.Conv2D(512, kernel_size=[3, 3], padding=\"same\", activation=\"relu\")(a)\n",
    "\n",
    "a = layers.UpSampling2D(size = (2, 2))(a)\n",
    "a = layers.concatenate([a,f3], axis = -1)\n",
    "a = layers.Conv2D(256, kernel_size=[3, 3], padding=\"same\", activation=\"relu\")(a)\n",
    "a = layers.Conv2D(128, kernel_size=[1, 1], padding=\"same\", activation=\"relu\")(a)\n",
    "a = layers.Conv2D(256, kernel_size=[3, 3], padding=\"same\", activation=\"relu\")(a)\n",
    "\n",
    "a = layers.UpSampling2D(size = (2, 2))(a)\n",
    "a = layers.concatenate([a,f2], axis = -1)\n",
    "a = layers.Conv2D(128, kernel_size=[3, 3], padding=\"same\", activation=\"relu\")(a)\n",
    "a = layers.Conv2D(64, kernel_size=[1, 1], padding=\"same\", activation=\"relu\")(a)\n",
    "a = layers.Conv2D(128, kernel_size=[3, 3], padding=\"same\", activation=\"relu\")(a)\n",
    "\n",
    "a = layers.UpSampling2D(size = (2, 2))(a)\n",
    "a = layers.concatenate([a,f1], axis = -1)\n",
    "a = layers.Conv2D(64, kernel_size=[3, 3], padding=\"same\", activation=\"relu\")(a)\n",
    "a = layers.Conv2D(32, kernel_size=[1, 1], padding=\"same\", activation=\"relu\")(a)\n",
    "a = layers.Conv2D(64, kernel_size=[3, 3], padding=\"same\", activation=\"relu\")(a)\n",
    "\n",
    "a = layers.Conv2D(8, kernel_size=[3, 3], padding=\"same\", activation=\"relu\")(a)\n",
    "outputs = layers.Conv2D(1, kernel_size=[1, 1], padding=\"same\", activation=\"sigmoid\")(a)\n",
    "\n",
    "model = tf.keras.Model(inputs = baseModel.input, outputs = outputs )\n",
    "model.summary()"
   ]
  },
  {
   "cell_type": "markdown",
   "metadata": {},
   "source": [
    "# Training"
   ]
  },
  {
   "cell_type": "code",
   "execution_count": null,
   "metadata": {},
   "outputs": [],
   "source": [
    "optimizer = optimizers.Adam(lr=1e-4)\n",
    "model.compile(loss = \"binary_crossentropy\", optimizer = optimizer,metrics = [\"acc\"])\n",
    "\n",
    "model_path = \"models/model-sidewalk-{epoch:04d}-{val_acc:.4f}.h5\"\n",
    "cp = keras.callbacks.ModelCheckpoint(model_path, monitor = \"val_acc\", save_best_only = True, mode=\"max\")\n",
    "callbacks = [cp]"
   ]
  },
  {
   "cell_type": "code",
   "execution_count": null,
   "metadata": {},
   "outputs": [],
   "source": [
    "history = model.fit(train_db, epochs = 20, validation_data = valid_db, callbacks = callbacks)"
   ]
  },
  {
   "cell_type": "markdown",
   "metadata": {},
   "source": [
    "# Load model to evaluate"
   ]
  },
  {
   "cell_type": "code",
   "execution_count": null,
   "metadata": {},
   "outputs": [],
   "source": [
    "del model"
   ]
  },
  {
   "cell_type": "code",
   "execution_count": null,
   "metadata": {},
   "outputs": [],
   "source": [
    "import tensorflow as tf\n",
    "from tensorflow import keras\n",
    "from tensorflow.keras import datasets, layers, optimizers, Sequential\n",
    "import glob\n",
    "import numpy as np\n",
    "import random"
   ]
  },
  {
   "cell_type": "code",
   "execution_count": null,
   "metadata": {},
   "outputs": [],
   "source": [
    "model = tf.keras.models.load_model('models/model-sidewalk-0016-0.9945.h5')"
   ]
  },
  {
   "cell_type": "code",
   "execution_count": null,
   "metadata": {},
   "outputs": [],
   "source": [
    "def get_img(path):\n",
    "    img = tf.io.read_file(path)\n",
    "    img = tf.image.decode_jpeg( img , channels = 3)\n",
    "    img = tf.cast(img , dtype = \"float32\")\n",
    "    img = tf.image.resize(img, [720, 1280])\n",
    "    img = tf.expand_dims(img, axis = 0)\n",
    "    return img/255."
   ]
  },
  {
   "cell_type": "code",
   "execution_count": null,
   "metadata": {},
   "outputs": [],
   "source": [
    "train_paths, label_paths = [],[]\n",
    "with open(\"dataset_sidewalk/train.txt\", \"r\") as f:\n",
    "    for line in f.readlines():\n",
    "        train_name, label_name = line.strip().split(\";\")\n",
    "        train_paths.append(\"dataset_sidewalk/jpg/\"+train_name)\n",
    "        label_paths.append(\"dataset_sidewalk/png/\"+label_name)\n",
    "print( len(train_paths) , len(label_paths) ) \n",
    "print( train_paths[0:2], label_paths[0:2])"
   ]
  },
  {
   "cell_type": "code",
   "execution_count": null,
   "metadata": {},
   "outputs": [],
   "source": [
    "import cv2\n",
    "startindex = 30\n",
    "watch_paths = x_valid[startindex:startindex+6]\n",
    "for i, path in enumerate(watch_paths):\n",
    "    img = get_img(path)\n",
    "    orgimg = tf.squeeze(img, axis = 0)\n",
    "    pred = model.predict(img)\n",
    "    pred = tf.squeeze(pred, axis = 0)\n",
    "    pred_pad = tf.pad(pred , [[0,0],[0,0],[1,1]])\n",
    "    addimg = orgimg*0.9 + pred_pad*0.3\n",
    "    cv2.imshow('addimg'+str(i), addimg.numpy())\n",
    "    \n",
    "cv2.waitKey(0)\n",
    "cv2.destroyAllWindows()"
   ]
  },
  {
   "cell_type": "code",
   "execution_count": null,
   "metadata": {},
   "outputs": [],
   "source": []
  }
 ],
 "metadata": {
  "kernelspec": {
   "display_name": "Python 3",
   "language": "python",
   "name": "python3"
  },
  "language_info": {
   "codemirror_mode": {
    "name": "ipython",
    "version": 3
   },
   "file_extension": ".py",
   "mimetype": "text/x-python",
   "name": "python",
   "nbconvert_exporter": "python",
   "pygments_lexer": "ipython3",
   "version": "3.7.4"
  }
 },
 "nbformat": 4,
 "nbformat_minor": 2
}
