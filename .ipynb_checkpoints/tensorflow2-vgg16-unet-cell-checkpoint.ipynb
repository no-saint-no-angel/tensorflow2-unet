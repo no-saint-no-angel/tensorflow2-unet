{
 "cells": [
  {
   "cell_type": "code",
   "execution_count": null,
   "metadata": {},
   "outputs": [],
   "source": [
    "import tensorflow as tf\n",
    "from tensorflow import keras\n",
    "from tensorflow.keras import datasets, layers, optimizers, Sequential\n",
    "import glob\n",
    "import numpy as np\n",
    "import random"
   ]
  },
  {
   "cell_type": "markdown",
   "metadata": {},
   "source": [
    "# Load Data And Split Data"
   ]
  },
  {
   "cell_type": "code",
   "execution_count": null,
   "metadata": {},
   "outputs": [],
   "source": [
    "\"\"\" 加载图片 \"\"\"\n",
    "train_paths, label_paths = [],[]\n",
    "with open(\"dataset/train.txt\", \"r\") as f:\n",
    "    for line in f.readlines():\n",
    "        line = line.strip('\\n')\n",
    "        train_name, label_name = line.split(\";\")\n",
    "        train_paths.append(\"dataset/jpg/\"+train_name)\n",
    "        label_paths.append(\"dataset/png/\"+label_name)\n",
    "print( len(train_paths) , len(label_paths) ) \n",
    "print( train_paths[0:2], label_paths[0:2])"
   ]
  },
  {
   "cell_type": "code",
   "execution_count": null,
   "metadata": {},
   "outputs": [],
   "source": [
    "\"\"\" 数据分割 \"\"\"\n",
    "from sklearn.model_selection import train_test_split\n",
    "x_train, x_valid, y_train, y_valid = train_test_split(train_paths, label_paths, test_size = 0.25, random_state = 888888)"
   ]
  },
  {
   "cell_type": "markdown",
   "metadata": {},
   "source": [
    "# Data Manager"
   ]
  },
  {
   "cell_type": "code",
   "execution_count": null,
   "metadata": {},
   "outputs": [],
   "source": [
    "def get_data_from_path(img, label):\n",
    "    img = tf.io.read_file(img)\n",
    "    img = tf.image.decode_jpeg( img , channels = 3)\n",
    "    img = tf.image.resize(img, [416, 416])\n",
    "    img = tf.cast(img , dtype = \"float32\")\n",
    "    \n",
    "    label = tf.io.read_file(label)\n",
    "    label = tf.image.decode_jpeg( label , channels = 1)\n",
    "    label = tf.image.resize(label, [416, 416])\n",
    "    label = tf.cast(label , dtype = \"int32\")\n",
    "    \n",
    "    return img/255., label"
   ]
  },
  {
   "cell_type": "code",
   "execution_count": null,
   "metadata": {},
   "outputs": [],
   "source": [
    "img, label = get_data_from_path(train_paths[0], label_paths[0])\n",
    "print(img.shape, label.shape)\n",
    "# print(label)"
   ]
  },
  {
   "cell_type": "code",
   "execution_count": null,
   "metadata": {},
   "outputs": [],
   "source": [
    "train_db = tf.data.Dataset.from_tensor_slices((x_train, y_train))\n",
    "train_db = train_db.map(get_data_from_path)\n",
    "train_db = train_db.shuffle(50).batch(5)\n",
    "\n",
    "valid_db = tf.data.Dataset.from_tensor_slices((x_valid, y_valid))\n",
    "valid_db = valid_db.map(get_data_from_path)\n",
    "valid_db = valid_db.shuffle(50).batch(5)\n",
    "\n",
    "sample1 = next(iter(train_db))\n",
    "print('sample1:', sample1[0].shape, sample1[1].shape)\n",
    "sample2 = next(iter(valid_db))\n",
    "print('sample2:', sample2[0].shape, sample2[1].shape)"
   ]
  },
  {
   "cell_type": "markdown",
   "metadata": {},
   "source": [
    "# Create Model"
   ]
  },
  {
   "cell_type": "code",
   "execution_count": null,
   "metadata": {},
   "outputs": [],
   "source": [
    "baseModel = tf.keras.applications.VGG16(weights=\"imagenet\",include_top=False,input_shape = (416, 416, 3),pooling=None)\n",
    "baseModel.trainable = False\n",
    "leftNet = tf.keras.models.Model(inputs=baseModel.input, outputs=baseModel.get_layer('block4_pool').output)\n",
    "\n",
    "f1 = leftNet.get_layer(\"block1_conv2\").output\n",
    "f2 = leftNet.get_layer(\"block2_conv2\").output\n",
    "f3 = leftNet.get_layer(\"block3_conv3\").output\n",
    "f4 = leftNet.get_layer(\"block4_conv3\").output\n",
    "\n",
    "a = layers.UpSampling2D(size = (2,2))(leftNet.output)\n",
    "a = layers.concatenate([a,f4], axis = -1)\n",
    "a = layers.Conv2D(512, kernel_size=[3, 3], padding=\"same\", activation=\"relu\")(a)\n",
    "a = layers.Conv2D(512, kernel_size=[3, 3], padding=\"same\", activation=\"relu\")(a)\n",
    "\n",
    "a = layers.UpSampling2D(size = (2,2))(a)\n",
    "a = layers.concatenate([a,f3], axis = -1)\n",
    "a = layers.Conv2D(256, kernel_size=[3, 3], padding=\"same\", activation=\"relu\")(a)\n",
    "a = layers.Conv2D(256, kernel_size=[3, 3], padding=\"same\", activation=\"relu\")(a)\n",
    "\n",
    "a = layers.UpSampling2D(size = (2,2))(a)\n",
    "a = layers.concatenate([a,f2], axis = -1)\n",
    "a = layers.Conv2D(128, kernel_size=[3, 3], padding=\"same\", activation=\"relu\")(a)\n",
    "a = layers.Conv2D(128, kernel_size=[3, 3], padding=\"same\", activation=\"relu\")(a)\n",
    "\n",
    "a = layers.UpSampling2D(size = (2,2))(a)\n",
    "a = layers.concatenate([a,f1], axis = -1)\n",
    "a = layers.Conv2D(64, kernel_size=[3, 3], padding=\"same\", activation=\"relu\")(a)\n",
    "a = layers.Conv2D(64, kernel_size=[3, 3], padding=\"same\", activation=\"relu\")(a)\n",
    "\n",
    "a = layers.Conv2D(8, kernel_size=[3, 3], padding=\"same\", activation=\"relu\")(a)\n",
    "outputs = layers.Conv2D(1, kernel_size=[1, 1], padding=\"same\", activation=\"sigmoid\")(a)\n",
    "\n",
    "model = tf.keras.Model(inputs = baseModel.input, outputs = outputs )\n",
    "model.summary()"
   ]
  },
  {
   "cell_type": "markdown",
   "metadata": {},
   "source": [
    "# Training by compile and filt"
   ]
  },
  {
   "cell_type": "code",
   "execution_count": null,
   "metadata": {},
   "outputs": [],
   "source": [
    "optimizer = optimizers.Adam(lr=1e-3)\n",
    "model.compile(loss = \"mse\", optimizer = optimizer)\n",
    "\n",
    "model_path = \"model-{epoch:04d}-{val_loss:.4f}.h5\"\n",
    "cp = keras.callbacks.ModelCheckpoint(model_path, save_best_only = True, mode=\"max\")\n",
    "callbacks = [cp]\n",
    "\n",
    "history = model.fit(train_db, epochs = 10, validation_data = valid_db, callbacks = callbacks)"
   ]
  },
  {
   "cell_type": "code",
   "execution_count": null,
   "metadata": {},
   "outputs": [],
   "source": [
    "# for step, (x, y) in enumerate(train_db):\n",
    "#     print(x.shape, x.dtype)\n",
    "#     pred = model(x)\n",
    "#     loss_ce = tf.keras.losses.binary_crossentropy(y_true=y, y_pred=pred)\n",
    "#     print(loss_ce.shape)\n",
    "#     loss_ce = tf.reduce_sum(loss_ce, axis = -1)\n",
    "#     print(loss_ce.shape)\n",
    "#     loss_ce = tf.reduce_sum(loss_ce, axis = -1)\n",
    "#     print(loss_ce.shape)\n",
    "#     break"
   ]
  },
  {
   "cell_type": "markdown",
   "metadata": {},
   "source": [
    "# Training by tf.GradientTape"
   ]
  },
  {
   "cell_type": "code",
   "execution_count": null,
   "metadata": {},
   "outputs": [],
   "source": [
    "\"\"\" 构建LOSS 开始训练\"\"\"\n",
    "optimizer = tf.keras.optimizers.Adam(lr=0.001)\n",
    "for epoch in range(10):\n",
    "    for step, (x, y) in enumerate(train_db):\n",
    "        with tf.GradientTape() as tape:\n",
    "            pred = model(x)\n",
    "            loss1 = tf.keras.losses.MSE(y_true=y, y_pred=pred)\n",
    "            loss2 = tf.reduce_mean(loss1, axis = -1)\n",
    "            loss3 = tf.reduce_mean(loss2, axis = -1)\n",
    "            loss4 = tf.reduce_mean(loss3, axis = -1)\n",
    "        grads = tape.gradient(loss4, model.trainable_variables)\n",
    "        optimizer.apply_gradients(zip(grads, model.trainable_variables))\n",
    "        print(\"loss3:\", float(loss4))\n"
   ]
  },
  {
   "cell_type": "code",
   "execution_count": null,
   "metadata": {},
   "outputs": [],
   "source": []
  }
 ],
 "metadata": {
  "kernelspec": {
   "display_name": "Python 3",
   "language": "python",
   "name": "python3"
  },
  "language_info": {
   "codemirror_mode": {
    "name": "ipython",
    "version": 3
   },
   "file_extension": ".py",
   "mimetype": "text/x-python",
   "name": "python",
   "nbconvert_exporter": "python",
   "pygments_lexer": "ipython3",
   "version": "3.7.4"
  }
 },
 "nbformat": 4,
 "nbformat_minor": 2
}
