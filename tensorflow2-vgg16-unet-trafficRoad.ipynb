{
 "cells": [
  {
   "cell_type": "code",
   "execution_count": null,
   "metadata": {},
   "outputs": [],
   "source": [
    "import tensorflow as tf\n",
    "from tensorflow import keras\n",
    "from tensorflow.keras import datasets, layers, optimizers, Sequential\n",
    "import glob\n",
    "import numpy as np\n",
    "import random"
   ]
  },
  {
   "cell_type": "code",
   "execution_count": null,
   "metadata": {},
   "outputs": [],
   "source": [
    "train_paths = glob.glob(\"dataset_trafficRoad/images_prepped_train\"+\"/*.png\")\n",
    "train_label_paths = glob.glob(\"dataset_trafficRoad/annotations_prepped_train\"+\"/*.png\")\n",
    "print(train_paths[10:12])\n",
    "print(train_label_paths[10:12])\n",
    "test_paths = glob.glob(\"dataset_trafficRoad/images_prepped_test\"+\"/*.png\")\n",
    "test_label_paths = glob.glob(\"dataset_trafficRoad/annotations_prepped_test\"+\"/*.png\")\n",
    "print(test_paths[10:12])\n",
    "print(test_label_paths[10:12])\n",
    "print(len(train_paths),len(train_label_paths),len(test_paths),len(test_label_paths))"
   ]
  },
  {
   "cell_type": "code",
   "execution_count": null,
   "metadata": {},
   "outputs": [],
   "source": [
    "def data_processing(path, label_path):\n",
    "    img = tf.io.read_file(path)\n",
    "    img = tf.image.decode_jpeg( img , channels = 3)\n",
    "    img = tf.cast(img , dtype = \"float32\")\n",
    "    label = tf.io.read_file(label_path)\n",
    "    label = tf.image.decode_jpeg( label , channels = 1)\n",
    "    return img/255., label"
   ]
  },
  {
   "cell_type": "code",
   "execution_count": null,
   "metadata": {},
   "outputs": [],
   "source": [
    "img, label = data_processing(train_paths[20], train_label_paths[20])\n",
    "print(img.shape, label.shape)\n",
    "print(np.max(img), np.min(img))\n",
    "print(np.max(label), np.min(label))"
   ]
  },
  {
   "cell_type": "code",
   "execution_count": null,
   "metadata": {},
   "outputs": [],
   "source": [
    "train_db = tf.data.Dataset.from_tensor_slices((train_paths, train_label_paths))\n",
    "train_db = train_db.shuffle(10).map(data_processing).batch(1)\n",
    "\n",
    "test_db = tf.data.Dataset.from_tensor_slices((test_paths, test_label_paths))\n",
    "test_db = test_db.shuffle(10).map(data_processing).batch(1)\n",
    "\n",
    "sample1 = next(iter(train_db))\n",
    "print('sample1:', sample1[0].shape, sample1[1].shape)\n",
    "sample2 = next(iter(test_db))\n",
    "print('sample2:', sample2[0].shape, sample2[1].shape)"
   ]
  },
  {
   "cell_type": "markdown",
   "metadata": {},
   "source": [
    "# Model"
   ]
  },
  {
   "cell_type": "code",
   "execution_count": null,
   "metadata": {
    "scrolled": true
   },
   "outputs": [],
   "source": [
    "baseModel = tf.keras.applications.VGG16(weights=\"imagenet\",include_top=False,input_shape = (360, 480, 3),pooling=None)\n",
    "baseModel.trainable = False\n",
    "contractingNet = tf.keras.models.Model(inputs=baseModel.input, outputs=baseModel.get_layer('block4_pool').output)\n",
    "\n",
    "f1 = contractingNet.get_layer(\"block1_conv2\").output\n",
    "f2 = contractingNet.get_layer(\"block2_conv2\").output\n",
    "f3 = contractingNet.get_layer(\"block3_conv3\").output\n",
    "f4 = contractingNet.get_layer(\"block4_conv3\").output\n",
    "\n",
    "a = layers.Conv2D(1024, kernel_size=[3, 3], padding=\"same\", activation=\"relu\")(contractingNet.output)\n",
    "a = layers.Conv2D(512, kernel_size=[1, 1], padding=\"same\", activation=\"relu\")(a)\n",
    "a = layers.Conv2D(1024, kernel_size=[3, 3], padding=\"same\", activation=\"relu\")(a)\n",
    "\n",
    "a = layers.UpSampling2D(size = (2, 2))(a)\n",
    "a = layers.ZeroPadding2D(padding = (1, 1))(a)\n",
    "a = layers.Conv2D(512, kernel_size=[2, 3], padding=\"valid\", activation=\"relu\")(a)\n",
    "a = layers.concatenate([a,f4], axis = -1)\n",
    "a = layers.Conv2D(256, kernel_size=[1, 1], padding=\"same\", activation=\"relu\")(a)\n",
    "a = layers.Conv2D(512, kernel_size=[3, 3], padding=\"same\", activation=\"relu\")(a)\n",
    "\n",
    "a = layers.UpSampling2D(size = (2, 2))(a)\n",
    "a = layers.concatenate([a,f3], axis = -1)\n",
    "a = layers.Conv2D(256, kernel_size=[3, 3], padding=\"same\", activation=\"relu\")(a)\n",
    "a = layers.Conv2D(128, kernel_size=[1, 1], padding=\"same\", activation=\"relu\")(a)\n",
    "a = layers.Conv2D(256, kernel_size=[3, 3], padding=\"same\", activation=\"relu\")(a)\n",
    "\n",
    "a = layers.UpSampling2D(size = (2, 2))(a)\n",
    "a = layers.concatenate([a,f2], axis = -1)\n",
    "a = layers.Conv2D(128, kernel_size=[3, 3], padding=\"same\", activation=\"relu\")(a)\n",
    "a = layers.Conv2D(64, kernel_size=[1, 1], padding=\"same\", activation=\"relu\")(a)\n",
    "a = layers.Conv2D(128, kernel_size=[3, 3], padding=\"same\", activation=\"relu\")(a)\n",
    "\n",
    "a = layers.UpSampling2D(size = (2, 2))(a)\n",
    "a = layers.concatenate([a,f1], axis = -1)\n",
    "a = layers.Conv2D(64, kernel_size=[3, 3], padding=\"same\", activation=\"relu\")(a)\n",
    "a = layers.Conv2D(32, kernel_size=[1, 1], padding=\"same\", activation=\"relu\")(a)\n",
    "a = layers.Conv2D(64, kernel_size=[3, 3], padding=\"same\", activation=\"relu\")(a)\n",
    "outputs = layers.Conv2D(12, kernel_size=[1, 1], padding=\"same\", activation=\"softmax\")(a)\n",
    "\n",
    "model = tf.keras.Model(inputs = baseModel.input, outputs = outputs )\n",
    "model.summary()"
   ]
  },
  {
   "cell_type": "markdown",
   "metadata": {},
   "source": [
    "# Training"
   ]
  },
  {
   "cell_type": "code",
   "execution_count": null,
   "metadata": {},
   "outputs": [],
   "source": [
    "optimizer = optimizers.Adam(lr=1e-4)\n",
    "model.compile(loss = \"sparse_categorical_crossentropy\", optimizer = optimizer,metrics = [\"acc\"])\n",
    "\n",
    "model_path = \"models/model-trafficRoad-{epoch:04d}-{val_acc:.4f}.h5\"\n",
    "checkpoint = keras.callbacks.ModelCheckpoint(model_path, monitor = \"val_acc\", save_best_only = True, mode=\"max\")"
   ]
  },
  {
   "cell_type": "code",
   "execution_count": null,
   "metadata": {},
   "outputs": [],
   "source": [
    "history = model.fit(train_db, epochs = 20, validation_data = test_db, callbacks = [checkpoint])"
   ]
  },
  {
   "cell_type": "markdown",
   "metadata": {},
   "source": [
    "# Load model to evaluate"
   ]
  },
  {
   "cell_type": "code",
   "execution_count": null,
   "metadata": {},
   "outputs": [],
   "source": [
    "del model"
   ]
  },
  {
   "cell_type": "code",
   "execution_count": null,
   "metadata": {},
   "outputs": [],
   "source": [
    "import tensorflow as tf\n",
    "from tensorflow import keras\n",
    "from tensorflow.keras import datasets, layers, optimizers, Sequential\n",
    "import glob\n",
    "import numpy as np\n",
    "import random"
   ]
  },
  {
   "cell_type": "code",
   "execution_count": null,
   "metadata": {},
   "outputs": [],
   "source": [
    "model = tf.keras.models.load_model('models/model-trafficRoad-0017-0.9052.h5')"
   ]
  },
  {
   "cell_type": "code",
   "execution_count": null,
   "metadata": {},
   "outputs": [],
   "source": [
    "train_paths = glob.glob(\"dataset_trafficRoad/images_prepped_train\"+\"/*.png\")\n",
    "train_label_paths = glob.glob(\"dataset_trafficRoad/annotations_prepped_train\"+\"/*.png\")\n",
    "test_paths = glob.glob(\"dataset_trafficRoad/images_prepped_test\"+\"/*.png\")\n",
    "test_label_paths = glob.glob(\"dataset_trafficRoad/annotations_prepped_test\"+\"/*.png\")"
   ]
  },
  {
   "cell_type": "code",
   "execution_count": null,
   "metadata": {},
   "outputs": [],
   "source": [
    "def get_one_img(path):\n",
    "    img = tf.io.read_file(path)\n",
    "    img = tf.image.decode_jpeg( img , channels = 3)\n",
    "    img = tf.cast(img , dtype = \"float32\")\n",
    "    img = tf.image.resize(img, [360, 480])\n",
    "    img = tf.expand_dims(img, axis = 0)\n",
    "    return img/255."
   ]
  },
  {
   "cell_type": "code",
   "execution_count": null,
   "metadata": {},
   "outputs": [],
   "source": [
    "import cv2, time\n",
    "\n",
    "img_index = 80\n",
    "watch_paths = train_paths[img_index:img_index+4]\n",
    "\n",
    "for x, path in enumerate(watch_paths):\n",
    "    img = get_one_img(path)\n",
    "    orgimg = tf.squeeze(img, axis = 0)\n",
    "    cv2.imshow('orgimg'+str(x), orgimg.numpy())\n",
    "    s1 = time.time()\n",
    "    pred = model.predict(img)\n",
    "    s2 =time.time()\n",
    "    pred_arg = tf.argmax(pred, axis = -1)\n",
    "    pred_arg = tf.squeeze(pred_arg, axis = 0)\n",
    "    pred_arg = tf.expand_dims(pred_arg, axis = -1)\n",
    "    \n",
    "    a = tf.where( tf.equal(pred_arg, 0),  [255, 255,   0],  [0, 0, 0])\n",
    "    b = tf.where( tf.equal(pred_arg, 1),  [ 18, 153, 255],  [0, 0, 0])\n",
    "    c = tf.where( tf.equal(pred_arg, 2),  [  0,   0,   0],  [0, 0, 0])\n",
    "    d = tf.where( tf.equal(pred_arg, 3),  [105, 128, 118],  [0, 0, 0])\n",
    "    e = tf.where( tf.equal(pred_arg, 4),  [255, 255, 255],  [0, 0, 0])\n",
    "    f = tf.where( tf.equal(pred_arg, 5),  [  0, 255,   0],  [0, 0, 0])\n",
    "    g = tf.where( tf.equal(pred_arg, 6),  [192, 192, 192],  [0, 0, 0])\n",
    "    h = tf.where( tf.equal(pred_arg, 7),  [  0,   0, 255],  [0, 0, 0])\n",
    "    i = tf.where( tf.equal(pred_arg, 8),  [  8,  46,  84],  [0, 0, 0])\n",
    "    j = tf.where( tf.equal(pred_arg, 9),  [255, 125,  64],  [0, 0, 0])\n",
    "    k = tf.where( tf.equal(pred_arg, 10), [192, 192, 192],  [0, 0, 0])\n",
    "    l = tf.where( tf.equal(pred_arg, 11), [255,   0,   0],  [0, 0, 0])\n",
    "    predimg = a + b + c + d + e + f + g + h + i + j + k + l\n",
    "    predimg = tf.cast(predimg, dtype = \"uint8\")\n",
    "    cv2.imshow('predimg'+str(x), predimg.numpy())\n",
    "    print(\"time distance:\", s2-s1)\n",
    "    \n",
    "cv2.waitKey(0)\n",
    "cv2.destroyAllWindows()"
   ]
  },
  {
   "cell_type": "code",
   "execution_count": null,
   "metadata": {},
   "outputs": [],
   "source": []
  }
 ],
 "metadata": {
  "kernelspec": {
   "display_name": "Python 3",
   "language": "python",
   "name": "python3"
  },
  "language_info": {
   "codemirror_mode": {
    "name": "ipython",
    "version": 3
   },
   "file_extension": ".py",
   "mimetype": "text/x-python",
   "name": "python",
   "nbconvert_exporter": "python",
   "pygments_lexer": "ipython3",
   "version": "3.7.4"
  }
 },
 "nbformat": 4,
 "nbformat_minor": 2
}
